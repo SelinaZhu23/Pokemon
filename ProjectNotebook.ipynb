{
 "cells": [
  {
   "cell_type": "markdown",
   "metadata": {},
   "source": [
    "# Project Description"
   ]
  },
  {
   "cell_type": "markdown",
   "metadata": {},
   "source": [
    "Write a brief description of your project here. \n",
    "\n",
    "This is a Pokemon Fighting project. There are four pokemons available. The user get to choose one, and the computer will choose randomly from the other three pokemons left. Then the user and the computer will take turns to use skills. The available skills with their information are provided to the user. The computer will choose one skill at random. \n",
    "For each round, the computer will give the damage caused by skills and the remaining hp value of each pokemon. When the hp = 0 for one pokemon, the fight ends."
   ]
  },
  {
   "cell_type": "markdown",
   "metadata": {},
   "source": [
    "## Project Code\n",
    "\n",
    "If it makes sense for your project, you can have code and outputs here in the notebook as well."
   ]
  },
  {
   "cell_type": "code",
   "execution_count": 1,
   "metadata": {},
   "outputs": [],
   "source": [
    "from my_module.classes import Skills, Pokemon, Fight   \n",
    "\n",
    "import random\n"
   ]
  },
  {
   "cell_type": "code",
   "execution_count": 2,
   "metadata": {},
   "outputs": [
    {
     "name": "stdout",
     "output_type": "stream",
     "text": [
      "Choose one: Pikachu, Bulbasaur, Charmander, Squirtle --- Charmander\n",
      "Charmander is Fire-type Pokemon\n",
      "Charmander has 4 skills:\n",
      "Scratch is Physical Normal type skill with power of 8, with 2 times left.\n",
      "Ember is Special Fire type skill with power of 8, with 3 times left.\n",
      "Flamethrower is Special Fire type skill with power of 18, with 2 times left.\n",
      "Slash is Physical Normal type skill with power of 14, with 2 times left.\n",
      "\n",
      "Now let's see who's your opponent!\n"
     ]
    }
   ],
   "source": [
    "start = Fight()\n",
    "my_po = start.getting_started()"
   ]
  },
  {
   "cell_type": "code",
   "execution_count": 3,
   "metadata": {},
   "outputs": [
    {
     "name": "stdout",
     "output_type": "stream",
     "text": [
      "Your opponent will be --- Pikachu.\n"
     ]
    }
   ],
   "source": [
    "op_po = start.get_opponent(my_po)"
   ]
  },
  {
   "cell_type": "code",
   "execution_count": 4,
   "metadata": {},
   "outputs": [
    {
     "name": "stdout",
     "output_type": "stream",
     "text": [
      "skill info:\n",
      "Scratch is Physical Normal type skill with power of 8, with 2 times left.\n",
      "Ember is Special Fire type skill with power of 8, with 3 times left.\n",
      "Flamethrower is Special Fire type skill with power of 18, with 2 times left.\n",
      "Slash is Physical Normal type skill with power of 14, with 2 times left.\n",
      "\n",
      "choose one skill --- Ember\n",
      "Opponent pokemon hp -60. Opponent pokemon remaining hp:80.\n",
      "Your opponent uses --- Quick Attack.\n",
      "My pokemon hp -63. My Pokemon remaining hp:93.\n",
      "\n",
      "skill info:\n",
      "Scratch is Physical Normal type skill with power of 8, with 2 times left.\n",
      "Ember is Special Fire type skill with power of 8, with 2 times left.\n",
      "Flamethrower is Special Fire type skill with power of 18, with 2 times left.\n",
      "Slash is Physical Normal type skill with power of 14, with 2 times left.\n",
      "\n",
      "choose one skill --- Slash\n",
      "Opponent pokemon hp -66. Opponent pokemon remaining hp:14.\n",
      "Your opponent uses --- Thunder Shock.\n",
      "My pokemon hp -63. My Pokemon remaining hp:30.\n",
      "\n",
      "skill info:\n",
      "Scratch is Physical Normal type skill with power of 8, with 2 times left.\n",
      "Ember is Special Fire type skill with power of 8, with 2 times left.\n",
      "Flamethrower is Special Fire type skill with power of 18, with 2 times left.\n",
      "Slash is Physical Normal type skill with power of 14, with 1 times left.\n",
      "\n",
      "choose one skill --- Slash\n",
      "Opponent pokemon hp -66. Opponent pokemon remaining hp:-52\n",
      "\n",
      "You win!\n"
     ]
    }
   ],
   "source": [
    "begin = start.fight(my_po, op_po)"
   ]
  },
  {
   "cell_type": "code",
   "execution_count": 5,
   "metadata": {},
   "outputs": [],
   "source": [
    "##Test it out"
   ]
  },
  {
   "cell_type": "code",
   "execution_count": 6,
   "metadata": {},
   "outputs": [],
   "source": [
    "from my_module.test_methods import test_attack, test_getting_started_copy, test_get_opponent_copy, test_fight_copy"
   ]
  },
  {
   "cell_type": "code",
   "execution_count": 7,
   "metadata": {},
   "outputs": [],
   "source": [
    "test_attack()\n",
    "test_getting_started_copy()\n",
    "test_get_opponent_copy()\n",
    "test_fight_copy()"
   ]
  },
  {
   "cell_type": "markdown",
   "metadata": {},
   "source": [
    "#### Extra Credit (*optional*)\n",
    "\n",
    "1. I learned AP CSP in highschool and a little about how python works, but almost all my knowledge of python comes from this course. \n",
    "2. In this project I challenged myself and figured out how to get the two instances from a class to interact with each other in the attack function, and I also learned how to filter out the unwanted choices from the random.choice list. I also learned the format function so I can get the desired info of my Pokemon without having to type it out word by word. My project also went beyond in a sense that making test functions for methods that builds on user input is much harder and I spent a great amount of time trying to figure that out."
   ]
  },
  {
   "cell_type": "code",
   "execution_count": null,
   "metadata": {},
   "outputs": [],
   "source": []
  }
 ],
 "metadata": {
  "kernelspec": {
   "display_name": "Python 3 (ipykernel)",
   "language": "python",
   "name": "python3"
  },
  "language_info": {
   "codemirror_mode": {
    "name": "ipython",
    "version": 3
   },
   "file_extension": ".py",
   "mimetype": "text/x-python",
   "name": "python",
   "nbconvert_exporter": "python",
   "pygments_lexer": "ipython3",
   "version": "3.9.5"
  }
 },
 "nbformat": 4,
 "nbformat_minor": 2
}
